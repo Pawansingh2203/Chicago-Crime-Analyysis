{
 "cells": [
  {
   "cell_type": "code",
   "execution_count": null,
   "metadata": {},
   "outputs": [],
   "source": [
    "import pandas as pd\n",
    "import numpy as np\n",
    "import matplotlib.pyplot as plt\n",
    "import dateutil\n",
    "df = pd.read_csv('/Users/jarvis/Downloads/Chicago_Crime_Detective.csv')\n",
    "df.head(10)\n",
    "df.tail()\n",
    "df.describe()\n",
    "df.dtypes\n",
    "df['Date'] = df['Date'].apply(dateutil.parser.parse, dayfirst=True)\n",
    "df.Date.describe()\n",
    "df['Month'] = pd.DatetimeIndex(df['Date']).month\n",
    "df.Month.value_counts()\n",
    "df[df['Arrest'] == True].Month.value_counts()\n",
    "df.groupby('Year').ID.count()\n",
    "year_count = df.groupby('Year', as_index=False).agg({\"ID\": \"count\"})\n",
    "year_count.plot(x ='Year', y='ID', kind = 'line')\n",
    "df.LocationDescription.value_counts()\n",
    "tr = df[df['Arrest'] == True].groupby('Year').ID.count()\n",
    "locations = ['STREET','PARKING LOT/GARAGE(NON.RESID.)','ALLEY','GAS STATION','DRIVEWAY - RESIDENTIAL']\n",
    "new_loc = df[df['LocationDescription'].isin(locations)]\n",
    "df[df['LocationDescription'] =='GAS STATION'].Weekday.value_counts()\n"
   ]
  }
 ],
 "metadata": {
  "kernelspec": {
   "display_name": "python3.6",
   "language": "python",
   "name": "python3.6"
  },
  "language_info": {
   "codemirror_mode": {
    "name": "ipython",
    "version": 3
   },
   "file_extension": ".py",
   "mimetype": "text/x-python",
   "name": "python",
   "nbconvert_exporter": "python",
   "pygments_lexer": "ipython3",
   "version": "3.6.10"
  }
 },
 "nbformat": 4,
 "nbformat_minor": 2
}
